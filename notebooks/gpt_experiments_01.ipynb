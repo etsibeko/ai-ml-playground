{
 "cells": [
  {
   "cell_type": "markdown",
   "id": "e811409e-8d4f-48a2-b969-3d007541919b",
   "metadata": {},
   "source": [
    "# 🧠 GPT Experiments — 01\n",
    "*Date*: June 28, 2025  \n",
    "*Researcher*: ET. Sibeko  \n",
    "This notebook documents early GPT prompts and how it behaves across different inputs."
   ]
  },
  {
   "cell_type": "code",
   "execution_count": null,
   "id": "60cb6619-9a0d-47ee-ba5b-f72235e24d49",
   "metadata": {},
   "outputs": [],
   "source": [
    "# Simulate a GPT response (placeholder)\n",
    "prompt = \"Explain quantum computing to a 5-year-old.\"\n",
    "fake_gpt_response = \"Quantum computing is like a magic coin that can be heads and tails at the same time.\"\n",
    "print(f\"Prompt: {prompt}\")\n",
    "print(f\"Response: {fake_gpt_response}\")"
   ]
  }
 ],
 "metadata": {
  "kernelspec": {
   "display_name": "Python 3 (ipykernel)",
   "language": "python",
   "name": "python3"
  },
  "language_info": {
   "codemirror_mode": {
    "name": "ipython",
    "version": 3
   },
   "file_extension": ".py",
   "mimetype": "text/x-python",
   "name": "python",
   "nbconvert_exporter": "python",
   "pygments_lexer": "ipython3",
   "version": "3.10.12"
  }
 },
 "nbformat": 4,
 "nbformat_minor": 5
}
